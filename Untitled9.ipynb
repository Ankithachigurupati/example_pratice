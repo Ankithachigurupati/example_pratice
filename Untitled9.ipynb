{
  "nbformat": 4,
  "nbformat_minor": 0,
  "metadata": {
    "colab": {
      "provenance": [],
      "authorship_tag": "ABX9TyNguPi4V+ygS+yHmxjXhmhq",
      "include_colab_link": true
    },
    "kernelspec": {
      "name": "python3",
      "display_name": "Python 3"
    },
    "language_info": {
      "name": "python"
    }
  },
  "cells": [
    {
      "cell_type": "markdown",
      "metadata": {
        "id": "view-in-github",
        "colab_type": "text"
      },
      "source": [
        "<a href=\"https://colab.research.google.com/github/Ankithachigurupati/example_pratice/blob/master/Untitled9.ipynb\" target=\"_parent\"><img src=\"https://colab.research.google.com/assets/colab-badge.svg\" alt=\"Open In Colab\"/></a>"
      ]
    },
    {
      "cell_type": "code",
      "execution_count": 4,
      "metadata": {
        "id": "g4wZ6bclMlIf"
      },
      "outputs": [],
      "source": [
        "def checkWin(b,z):\n",
        "    if(b[0][0]==z and b[0][1]==z and b[0][2]==z):\n",
        "        return True\n",
        "    if(b[1][0]==z and b[1][1]==z and b[1][2]==z):\n",
        "        return True\n",
        "    if(b[2][0]==z and b[2][1]==z and b[2][2]==z):\n",
        "        return True\n",
        "    if(b[0][0]==z and b[1][0]==z and b[2][0]==z):\n",
        "        return True\n",
        "    if(b[0][1]==z and b[1][1]==z and b[2][1]==z):\n",
        "        return True\n",
        "    if(b[0][2]==z and b[1][2]==z and b[2][2]==z):\n",
        "        return True\n",
        "    if(b[0][0]==z and b[1][1]==z and b[2][2]==z):\n",
        "        return True\n",
        "    if(b[0][2]==z and b[1][1]==z and b[2][0]==z):\n",
        "        return True\n",
        "    return False"
      ]
    },
    {
      "cell_type": "code",
      "source": [
        "def game():\n",
        "    c=0\n",
        "    win=0\n",
        "    Exit='n'\n",
        "    print(\"Current board Position : \\n\")\n",
        "    for i in b:\n",
        "        print(i)\n",
        "    while(Exit!='y' and c<8):\n",
        "        temp=c+1\n",
        "        print(\"Player 1 : \")\n",
        "        while(c!=temp):\n",
        "            i,j=list(map(int,input(\"Enter the Index postion where you want your symbol : \").split()))\n",
        "            if(b[i][j]==' '):\n",
        "                b[i][j]='X'\n",
        "                c=c+1\n",
        "            else:\n",
        "                print(\"Please Enter another position as it is already occupied\")\n",
        "        \n",
        "        print(\"Current board Position : \\n\")\n",
        "        for i in b:\n",
        "            print(i)\n",
        "        if(checkWin(b,'X')):\n",
        "            win=1\n",
        "            break\n",
        "        if(c>8):\n",
        "            break\n",
        "         \n",
        "        temp=c+1\n",
        "        print(\"Player 2 : \")\n",
        "        while(c!=temp):\n",
        "            i,j=list(map(int,input(\"Enter the Index postion where you want your symbol : \").split()))\n",
        "            if(b[i][j]==' '):\n",
        "                b[i][j]='Y'\n",
        "                c=c+1\n",
        "            else:\n",
        "                print(\"Please Enter another position as it is already occupied\")\n",
        "        \n",
        "        print(\"Current board Position : \\n\")\n",
        "        for i in b:\n",
        "            print(i)\n",
        "        if(checkWin(b,'Y')):\n",
        "            win=2\n",
        "            break\n",
        "        if(c>8):\n",
        "            break\n",
        "            \n",
        "        Exit=input(\"Would you like to exit ? if yes Press 'y' otherwise 'n' : \")\n",
        "    return win"
      ],
      "metadata": {
        "id": "mcnSw4aaMtiP"
      },
      "execution_count": 2,
      "outputs": []
    },
    {
      "cell_type": "code",
      "source": [
        "b=[[' ',' ',' '],[' ',' ',' '],[' ',' ',' ']]\n",
        "val=game()\n",
        "if(val==1):\n",
        "    print(\"Player 1 Won\")\n",
        "elif(val==2):\n",
        "    print(\"Player 2 Won\")\n",
        "else:\n",
        "    print(\"This Match is a draw.\")\n",
        "win=0\n"
      ],
      "metadata": {
        "colab": {
          "base_uri": "https://localhost:8080/"
        },
        "id": "lPro7HjjM4ZU",
        "outputId": "8cac5076-09f4-4887-eda3-2d8a0362cf14"
      },
      "execution_count": 7,
      "outputs": [
        {
          "output_type": "stream",
          "name": "stdout",
          "text": [
            "Current board Position : \n",
            "\n",
            "[' ', ' ', ' ']\n",
            "[' ', ' ', ' ']\n",
            "[' ', ' ', ' ']\n",
            "Player 1 : \n",
            "Enter the Index postion where you want your symbol : 0 0\n",
            "Current board Position : \n",
            "\n",
            "['X', ' ', ' ']\n",
            "[' ', ' ', ' ']\n",
            "[' ', ' ', ' ']\n",
            "Player 2 : \n",
            "Enter the Index postion where you want your symbol : 0 1\n",
            "Current board Position : \n",
            "\n",
            "['X', 'Y', ' ']\n",
            "[' ', ' ', ' ']\n",
            "[' ', ' ', ' ']\n",
            "Would you like to exit ? if yes Press 'y' otherwise 'n' : n\n",
            "Player 1 : \n",
            "Enter the Index postion where you want your symbol : 0 2\n",
            "Current board Position : \n",
            "\n",
            "['X', 'Y', 'X']\n",
            "[' ', ' ', ' ']\n",
            "[' ', ' ', ' ']\n",
            "Player 2 : \n",
            "Enter the Index postion where you want your symbol : 1 1\n",
            "Current board Position : \n",
            "\n",
            "['X', 'Y', 'X']\n",
            "[' ', 'Y', ' ']\n",
            "[' ', ' ', ' ']\n",
            "Would you like to exit ? if yes Press 'y' otherwise 'n' : n\n",
            "Player 1 : \n",
            "Enter the Index postion where you want your symbol : 2 2\n",
            "Current board Position : \n",
            "\n",
            "['X', 'Y', 'X']\n",
            "[' ', 'Y', ' ']\n",
            "[' ', ' ', 'X']\n",
            "Player 2 : \n",
            "Enter the Index postion where you want your symbol : 2 1\n",
            "Current board Position : \n",
            "\n",
            "['X', 'Y', 'X']\n",
            "[' ', 'Y', ' ']\n",
            "[' ', 'Y', 'X']\n",
            "Player 2 Won\n"
          ]
        }
      ]
    },
    {
      "cell_type": "code",
      "source": [
        "class Dog():\n",
        "\n",
        "  def __init__(self,mybreed):\n",
        "\n",
        "    self.breed = mybreed\n"
      ],
      "metadata": {
        "id": "TAx_tDtiSwxr"
      },
      "execution_count": 6,
      "outputs": []
    },
    {
      "cell_type": "code",
      "source": [
        "class Dog():\n",
        "\n",
        "    def __init__(self,breed,name):\n",
        "\n",
        "\n",
        "        self.breed = breed\n",
        "        self.name = name"
      ],
      "metadata": {
        "id": "V803GspEpoWd"
      },
      "execution_count": 13,
      "outputs": []
    },
    {
      "cell_type": "code",
      "source": [
        "my_dog = Dog(breed='lab',name= 'snoopy')"
      ],
      "metadata": {
        "id": "3ArxmjFKqgZB"
      },
      "execution_count": 14,
      "outputs": []
    },
    {
      "cell_type": "code",
      "source": [
        "type(my_dog)"
      ],
      "metadata": {
        "colab": {
          "base_uri": "https://localhost:8080/"
        },
        "id": "PODT9N4EtjtR",
        "outputId": "cf047eeb-55b7-48c3-aa09-f03c5ab2eb04"
      },
      "execution_count": 15,
      "outputs": [
        {
          "output_type": "execute_result",
          "data": {
            "text/plain": [
              "__main__.Dog"
            ]
          },
          "metadata": {},
          "execution_count": 15
        }
      ]
    },
    {
      "cell_type": "code",
      "source": [
        "class Animal():\n",
        "  def __init__(self):\n",
        "    print(\"animal creatrd\")\n",
        "  def who_am_i(self):\n",
        "    print(\"i am an animal\")\n",
        "  def eat(self):\n",
        "    print(\"i am eating\")\n"
      ],
      "metadata": {
        "id": "zBD_phbIu84x"
      },
      "execution_count": 16,
      "outputs": []
    },
    {
      "cell_type": "code",
      "source": [
        "myanimal= Animal()"
      ],
      "metadata": {
        "colab": {
          "base_uri": "https://localhost:8080/"
        },
        "id": "VHOlMg1Vwrhh",
        "outputId": "8490b13f-a842-451a-fc80-5f87d8d8f27d"
      },
      "execution_count": 17,
      "outputs": [
        {
          "output_type": "stream",
          "name": "stdout",
          "text": [
            "animal creatrd\n"
          ]
        }
      ]
    },
    {
      "cell_type": "code",
      "source": [
        "myanimal.eat()"
      ],
      "metadata": {
        "colab": {
          "base_uri": "https://localhost:8080/"
        },
        "id": "-K0Sod1GwzlC",
        "outputId": "e27ebdac-fd84-400b-e712-44fbdf101aa1"
      },
      "execution_count": 18,
      "outputs": [
        {
          "output_type": "stream",
          "name": "stdout",
          "text": [
            "i am eating\n"
          ]
        }
      ]
    },
    {
      "cell_type": "code",
      "source": [
        "class Dog(Animal):\n",
        "  def __init__(self):\n",
        "    Animal.__init__(self)\n",
        "    print(\"dog created\")\n",
        "\n"
      ],
      "metadata": {
        "id": "BmWmZuOWxKRy"
      },
      "execution_count": 20,
      "outputs": []
    },
    {
      "cell_type": "code",
      "source": [
        "mydog = Dog() "
      ],
      "metadata": {
        "colab": {
          "base_uri": "https://localhost:8080/"
        },
        "id": "pAQ1R1V6xwoo",
        "outputId": "31a852b5-b133-447c-a3a1-26262e98c780"
      },
      "execution_count": 21,
      "outputs": [
        {
          "output_type": "stream",
          "name": "stdout",
          "text": [
            "animal creatrd\n",
            "dog created\n"
          ]
        }
      ]
    }
  ]
}